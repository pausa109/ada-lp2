{
 "cells": [
  {
   "cell_type": "markdown",
   "metadata": {},
   "source": [
    "Imports"
   ]
  },
  {
   "cell_type": "code",
   "execution_count": 78,
   "metadata": {},
   "outputs": [],
   "source": [
    "import json\n",
    "import random"
   ]
  },
  {
   "cell_type": "markdown",
   "metadata": {},
   "source": [
    "Leitura do Arquivo\n"
   ]
  },
  {
   "cell_type": "code",
   "execution_count": 79,
   "metadata": {},
   "outputs": [],
   "source": [
    "users = []\n",
    "\n",
    "def readSaveFile(read=True, fileName='usersBase.json'):\n",
    "    global users\n",
    "    if read:\n",
    "        try:\n",
    "            with open(fileName, 'r') as file:\n",
    "                users = json.load(file)\n",
    "        except FileNotFoundError:\n",
    "            print(\"Arquivo não encontrado. Iniciando o sistema com uma lista vazia.\")\n",
    "            users = []\n",
    "    else:\n",
    "        with open(fileName, 'w') as file:\n",
    "            json.dump(users, file)"
   ]
  },
  {
   "cell_type": "markdown",
   "metadata": {},
   "source": [
    "Geração de Ids aleatórios e Únicos"
   ]
  },
  {
   "cell_type": "code",
   "execution_count": 80,
   "metadata": {},
   "outputs": [],
   "source": [
    "def setID():\n",
    "    generatedID = random.randint(1, 100000)\n",
    "    while any(user['id'] == generatedID for user in users):\n",
    "        generatedID = random.randint(1, 100000)\n",
    "    return generatedID"
   ]
  },
  {
   "cell_type": "markdown",
   "metadata": {},
   "source": [
    "Menu"
   ]
  },
  {
   "cell_type": "code",
   "execution_count": 81,
   "metadata": {},
   "outputs": [],
   "source": [
    "def showMenu():\n",
    "    menuStr = \"\"\"\n",
    "    \\nBoas vindas ao nosso sistema:\n",
    "\n",
    "    1 - Inserir usuário\n",
    "    2 - Excluir usuário\n",
    "    3 - Atualizar usuário\n",
    "    4 - Informações de um usuário\n",
    "    5 - Informações de todos os usuários\n",
    "    6 - Sair\\n\n",
    "    \"\"\"\n",
    "    print(menuStr)  \n"
   ]
  },
  {
   "cell_type": "markdown",
   "metadata": {},
   "source": [
    "Sub-Menu"
   ]
  },
  {
   "cell_type": "code",
   "execution_count": null,
   "metadata": {},
   "outputs": [],
   "source": [
    "def showSubMenu():\n",
    "    subMenuStr =  \"\"\"\n",
    "\\nQual informação deseja alterar?\n",
    "1 - Nome\n",
    "2 - Tefone\n",
    "3 - Endereço\n",
    "\\n\n",
    "\"\"\"\n",
    "    print(subMenuStr)"
   ]
  },
  {
   "cell_type": "markdown",
   "metadata": {},
   "source": [
    "Adicionar Usuários"
   ]
  },
  {
   "cell_type": "code",
   "execution_count": 82,
   "metadata": {},
   "outputs": [],
   "source": [
    "def addUser(name, phone=\"Não Informado\", address=\"Não Informado\"):\n",
    "    global users\n",
    "    id_ = setID()\n",
    "    newUser = {\n",
    "        'id': id_,\n",
    "        'nome': name,\n",
    "        'telefone': phone,\n",
    "        'endereço': address,\n",
    "        'status': True\n",
    "    }\n",
    "    users.append(newUser)\n",
    "    print(f\"Usuário com ID {id_} adicionado com sucesso!\")\n"
   ]
  },
  {
   "cell_type": "markdown",
   "metadata": {},
   "source": [
    "Teste de Usuario"
   ]
  },
  {
   "cell_type": "code",
   "execution_count": 83,
   "metadata": {},
   "outputs": [
    {
     "name": "stdout",
     "output_type": "stream",
     "text": [
      "Usuário com ID 78390 adicionado com sucesso!\n",
      "{'id': 1, 'nome': 'JoÃ£o da Silva', 'telefone': '2345678', 'endereco': 'Rua sete', 'status': True}\n",
      "{'id': 2, 'nome': 'Maria Aparecida', 'telefone': '2345678', 'endereco': 'Rua cinco', 'status': True}\n",
      "{'id': 3, 'nome': 'Alceu Maroto', 'telefone': '2345678', 'endereco': 'Avenida trinta e um', 'status': True}\n",
      "{'id': 4, 'nome': 'Rafaela Mendes', 'telefone': '8765432', 'endereco': 'Rua quinze', 'status': True}\n",
      "{'id': 5, 'nome': 'Carlos Ferreira', 'telefone': '7654321', 'endereco': 'Avenida vinte e dois', 'status': True}\n",
      "{'id': 78390, 'nome': 'a', 'telefone': 'Não Informado', 'endereco': 'Não Informado', 'status': True}\n"
     ]
    }
   ],
   "source": [
    "readSaveFile()\n",
    "addUser('a')\n",
    "\n",
    "for user in users:\n",
    "    print(user)"
   ]
  },
  {
   "cell_type": "markdown",
   "metadata": {},
   "source": [
    "Edição de Usuário"
   ]
  },
  {
   "cell_type": "code",
   "execution_count": null,
   "metadata": {},
   "outputs": [],
   "source": [
    "def editUser(id_):\n",
    "    global users\n",
    "    foundUser = False\n",
    "    for user in users:\n",
    "        if user['id'] == id_:\n",
    "            foundUser = True\n",
    "            showSubMenu()\n",
    "            option = int(input())\n",
    "            if option == 1:\n",
    "                newName = input(\"Insira o nome: \")\n",
    "                user['nome'] = newName\n",
    "            elif option == 2:\n",
    "                newPhone = input(\"Insira o telefone: \")\n",
    "                user['telefone'] = newPhone\n",
    "            elif option == 3:\n",
    "                newAdress = input(\"Insira o endereço: \")\n",
    "                user['endereco'] = newAdress\n",
    "            else:\n",
    "                print(\"Opção inválida!\")\n",
    "\n",
    "    if not foundUser:\n",
    "        print(f\"Usuário com ID {id_} não encontrado!\")\n"
   ]
  }
 ],
 "metadata": {
  "kernelspec": {
   "display_name": "Python 3",
   "language": "python",
   "name": "python3"
  },
  "language_info": {
   "codemirror_mode": {
    "name": "ipython",
    "version": 3
   },
   "file_extension": ".py",
   "mimetype": "text/x-python",
   "name": "python",
   "nbconvert_exporter": "python",
   "pygments_lexer": "ipython3",
   "version": "3.11.3"
  },
  "orig_nbformat": 4
 },
 "nbformat": 4,
 "nbformat_minor": 2
}
