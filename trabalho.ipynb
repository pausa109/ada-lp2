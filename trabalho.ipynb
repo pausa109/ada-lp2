{
 "cells": [
  {
   "cell_type": "markdown",
   "metadata": {},
   "source": [
    "Imports"
   ]
  },
  {
   "cell_type": "code",
   "execution_count": null,
   "metadata": {},
   "outputs": [],
   "source": [
    "import json\n",
    "import random"
   ]
  },
  {
   "cell_type": "markdown",
   "metadata": {},
   "source": [
    "Leitura do Arquivo\n"
   ]
  },
  {
   "cell_type": "code",
   "execution_count": null,
   "metadata": {},
   "outputs": [],
   "source": [
    "users = []\n",
    "\n",
    "def readSaveFile(read=True, fileName='usersBase.json'):\n",
    "    global users\n",
    "    if read:\n",
    "        try:\n",
    "            with open(fileName, 'r', encoding=\"utf8\") as file:\n",
    "                users = json.load(file)\n",
    "        except FileNotFoundError:\n",
    "            print(\"Arquivo não encontrado. Iniciando o sistema com uma lista vazia.\")\n",
    "            users = []\n",
    "    else:\n",
    "        with open(fileName, 'w') as file:\n",
    "            json.dump(users, file)"
   ]
  },
  {
   "cell_type": "markdown",
   "metadata": {},
   "source": [
    "Geração de Ids aleatórios e Únicos"
   ]
  },
  {
   "cell_type": "code",
   "execution_count": null,
   "metadata": {},
   "outputs": [],
   "source": [
    "def setID():\n",
    "    generatedID = random.randint(1, 100000)\n",
    "    while any(user['id'] == generatedID for user in users):\n",
    "        generatedID = random.randint(1, 100000)\n",
    "    return generatedID"
   ]
  },
  {
   "cell_type": "markdown",
   "metadata": {},
   "source": [
    "Menu"
   ]
  },
  {
   "cell_type": "code",
   "execution_count": null,
   "metadata": {},
   "outputs": [],
   "source": [
    "def showMenu():\n",
    "    menuStr = \"\"\"\n",
    "    \\nBoas vindas ao nosso sistema:\n",
    "\n",
    "    1 - Inserir usuário\n",
    "    2 - Excluir usuário\n",
    "    3 - Atualizar usuário\n",
    "    4 - Informações de um usuário\n",
    "    5 - Informações de todos os usuários\n",
    "    6 - Sair\\n\n",
    "    \"\"\"\n",
    "    print(menuStr)  \n"
   ]
  },
  {
   "cell_type": "markdown",
   "metadata": {},
   "source": [
    "Sub-Menu"
   ]
  },
  {
   "cell_type": "code",
   "execution_count": null,
   "metadata": {},
   "outputs": [],
   "source": [
    "def showSubMenu():\n",
    "    subMenuStr =  \"\"\"\n",
    "\\nQual informação deseja alterar?\n",
    "1 - Nome\n",
    "2 - Tefone\n",
    "3 - Endereço\n",
    "\\n\n",
    "\"\"\"\n",
    "    print(subMenuStr)"
   ]
  },
  {
   "cell_type": "markdown",
   "metadata": {},
   "source": [
    "Adicionar Usuários"
   ]
  },
  {
   "cell_type": "code",
   "execution_count": null,
   "metadata": {},
   "outputs": [],
   "source": [
    "def addUser(name, phone=\"Não Informado\", address=\"Não Informado\"):\n",
    "    global users\n",
    "    id_ = setID()\n",
    "    newUser = {\n",
    "        'id': id_,\n",
    "        'nome': name,\n",
    "        'telefone': phone,\n",
    "        'endereco': address,\n",
    "        'status': True\n",
    "    }\n",
    "    users.append(newUser)\n",
    "    print(f\"Usuário com ID {id_} adicionado com sucesso!\")\n"
   ]
  },
  {
   "cell_type": "markdown",
   "metadata": {},
   "source": [
    "Teste de Usuario"
   ]
  },
  {
   "cell_type": "code",
   "execution_count": null,
   "metadata": {},
   "outputs": [],
   "source": [
    "readSaveFile()\n",
    "addUser('a')\n",
    "\n",
    "for user in users:\n",
    "    print(user)"
   ]
  },
  {
   "cell_type": "markdown",
   "metadata": {},
   "source": [
    "Edição de Usuário"
   ]
  },
  {
   "cell_type": "code",
   "execution_count": null,
   "metadata": {},
   "outputs": [],
   "source": [
    "def editUser(id_):\n",
    "    global users\n",
    "    foundUser = False\n",
    "    for user in users:\n",
    "        if user['id'] == id_:\n",
    "            foundUser = True\n",
    "            showSubMenu()\n",
    "            option = int(input())\n",
    "            if option == 1:\n",
    "                newName = input(\"Insira o nome: \")\n",
    "                user['nome'] = newName\n",
    "            elif option == 2:\n",
    "                newPhone = input(\"Insira o telefone: \")\n",
    "                user['telefone'] = newPhone\n",
    "            elif option == 3:\n",
    "                newAdress = input(\"Insira o endereço: \")\n",
    "                user['endereco'] = newAdress\n",
    "            else:\n",
    "                print(\"Opção inválida!\")\n",
    "\n",
    "    if not foundUser:\n",
    "        print(f\"Usuário com ID {id_} não encontrado!\")\n"
   ]
  },
  {
   "cell_type": "markdown",
   "metadata": {},
   "source": [
    "Exibição de Usuário"
   ]
  },
  {
   "cell_type": "code",
   "execution_count": null,
   "metadata": {},
   "outputs": [],
   "source": [
    "def showUsers(id_):\n",
    "    global users\n",
    "    foundUser = False\n",
    "    for user in users:\n",
    "        if user['id'] == id_ and user['status']:\n",
    "            foundUser = True\n",
    "            print(f\"Nome: {user['nome']}\")\n",
    "            print(f\"Telefone: {user['telefone']}\")\n",
    "            print(f\"Endereço: {user['endereco']}\")\n",
    "            break\n",
    "\n",
    "    if not foundUser:\n",
    "        print(f\"Usuário com ID {id_} não encontrado!\")\n"
   ]
  },
  {
   "cell_type": "markdown",
   "metadata": {},
   "source": [
    "Exibição de todos os Usuários"
   ]
  },
  {
   "cell_type": "code",
   "execution_count": null,
   "metadata": {},
   "outputs": [],
   "source": [
    "def showAllUsers():\n",
    "    global users\n",
    "    for user in users:\n",
    "        if user['status']:\n",
    "            print(f\"ID: {user['id']}\")\n",
    "            print(f\"Nome: {user['nome']}\")\n",
    "            print(f\"Telefone: {user['telefone']}\")\n",
    "            print(f\"Endereço: {user['endereco']}\")\n",
    "            print()\n"
   ]
  },
  {
   "cell_type": "markdown",
   "metadata": {},
   "source": [
    "Teste de Exibição"
   ]
  },
  {
   "cell_type": "code",
   "execution_count": null,
   "metadata": {},
   "outputs": [],
   "source": [
    "showUsers(1)\n",
    "showAllUsers()"
   ]
  },
  {
   "cell_type": "markdown",
   "metadata": {},
   "source": [
    "Apagar Usuário"
   ]
  },
  {
   "cell_type": "code",
   "execution_count": null,
   "metadata": {},
   "outputs": [],
   "source": [
    "def deleteUser(*ids):\n",
    "    global users\n",
    "    for id_ in ids:\n",
    "        userFound = False\n",
    "        for user in users:\n",
    "            if user['id'] == id_:\n",
    "                user['status'] = False\n",
    "                userFound = True\n",
    "                break\n",
    "        if not userFound:\n",
    "            print(f\"Usuário com ID {id_} não encontrado!\")\n",
    "\n",
    "    print(\"Exclusão concluída!\")\n"
   ]
  },
  {
   "cell_type": "markdown",
   "metadata": {},
   "source": [
    "Encerrar Programa"
   ]
  },
  {
   "cell_type": "code",
   "execution_count": null,
   "metadata": {},
   "outputs": [],
   "source": [
    "def quitCode(fileName='usersBase.json'):\n",
    "    readSaveFile(read=False, fileName=fileName)\n",
    "    print(\"Programa encerrado. Arquivo salvo com sucesso!\")\n"
   ]
  },
  {
   "cell_type": "markdown",
   "metadata": {},
   "source": [
    "Esqueleto do Programa"
   ]
  },
  {
   "cell_type": "code",
   "execution_count": null,
   "metadata": {},
   "outputs": [],
   "source": [
    "readSaveFile()\n",
    "\n",
    "while True:\n",
    "    showMenu()\n",
    "\n",
    "    option = int(input(\"Digite a opção desejada: \"))\n",
    "\n",
    "    if option == 1:\n",
    "        amount = int(input(\"Digite o número de cadastros que deseja inserir: \"))\n",
    "        for _ in range(amount):\n",
    "            name = input(\"Insira o nome: \")\n",
    "            phone = input(\"Insira o telefone: \")\n",
    "            address = input(\"Insira o endereço: \")\n",
    "            addUser(name, phone, address)\n",
    "    elif option == 2:\n",
    "        ids = input(\"Insira o(s) ID(s) do(s) usuário(s) que deseja excluir (separados por vírgula): \").split(',')\n",
    "        ids = [int(id_) for id_ in ids]\n",
    "        deleteUser(*ids)\n",
    "    elif option == 3:\n",
    "        id_ = int(input(\"Insira o ID do usuário que deseja atualizar: \"))\n",
    "        editUser(id_)\n",
    "    elif option == 4:\n",
    "        id_ = int(input(\"Insira o ID do usuário que deseja visualizar: \"))\n",
    "        showUsers(id_)\n",
    "    elif option == 5:\n",
    "        showAllUsers()\n",
    "    elif option == 6:\n",
    "        quitCode()\n",
    "        break\n",
    "    else:\n",
    "        print(\"Opção inválida!\")\n"
   ]
  }
 ],
 "metadata": {
  "kernelspec": {
   "display_name": "Python 3",
   "language": "python",
   "name": "python3"
  },
  "language_info": {
   "codemirror_mode": {
    "name": "ipython",
    "version": 3
   },
   "file_extension": ".py",
   "mimetype": "text/x-python",
   "name": "python",
   "nbconvert_exporter": "python",
   "pygments_lexer": "ipython3",
   "version": "3.11.3"
  },
  "orig_nbformat": 4
 },
 "nbformat": 4,
 "nbformat_minor": 2
}
