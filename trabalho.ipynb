{
 "cells": [
  {
   "cell_type": "markdown",
   "metadata": {},
   "source": [
    "Imports"
   ]
  },
  {
   "cell_type": "code",
   "execution_count": 157,
   "metadata": {},
   "outputs": [],
   "source": [
    "import json\n",
    "import random"
   ]
  },
  {
   "cell_type": "markdown",
   "metadata": {},
   "source": [
    "Leitura do Arquivo\n"
   ]
  },
  {
   "cell_type": "code",
   "execution_count": 158,
   "metadata": {},
   "outputs": [],
   "source": [
    "users = []\n",
    "\n",
    "def readSaveFile(read=True, fileName='usersBase.json'):\n",
    "    global users\n",
    "    if read:\n",
    "        try:\n",
    "            with open(fileName, 'r', encoding=\"utf8\") as file:\n",
    "                users = json.load(file)\n",
    "        except FileNotFoundError:\n",
    "            print(\"Arquivo não encontrado. Iniciando o sistema com uma lista vazia.\")\n",
    "            users = []\n",
    "    else:\n",
    "        with open(fileName, 'w') as file:\n",
    "            json.dump(users, file)"
   ]
  },
  {
   "cell_type": "markdown",
   "metadata": {},
   "source": [
    "Geração de Ids aleatórios e Únicos"
   ]
  },
  {
   "cell_type": "code",
   "execution_count": 159,
   "metadata": {},
   "outputs": [],
   "source": [
    "def setID():\n",
    "    generatedID = random.randint(1, 100000)\n",
    "    while any(user['id'] == generatedID for user in users):\n",
    "        generatedID = random.randint(1, 100000)\n",
    "    return generatedID"
   ]
  },
  {
   "cell_type": "markdown",
   "metadata": {},
   "source": [
    "Menu"
   ]
  },
  {
   "cell_type": "code",
   "execution_count": 160,
   "metadata": {},
   "outputs": [],
   "source": [
    "def showMenu():\n",
    "    menuStr = \"\"\"\n",
    "    \\nBoas vindas ao nosso sistema:\n",
    "\n",
    "    1 - Inserir usuário\n",
    "    2 - Excluir usuário\n",
    "    3 - Atualizar usuário\n",
    "    4 - Informações de um usuário\n",
    "    5 - Informações de todos os usuários\n",
    "    6 - Sair\\n\n",
    "    \"\"\"\n",
    "    print(menuStr)  \n"
   ]
  },
  {
   "cell_type": "markdown",
   "metadata": {},
   "source": [
    "Sub-Menu"
   ]
  },
  {
   "cell_type": "code",
   "execution_count": 161,
   "metadata": {},
   "outputs": [],
   "source": [
    "def showSubMenu():\n",
    "    subMenuStr =  \"\"\"\n",
    "\\nQual informação deseja alterar?\n",
    "1 - Nome\n",
    "2 - Tefone\n",
    "3 - Endereço\n",
    "\\n\n",
    "\"\"\"\n",
    "    print(subMenuStr)"
   ]
  },
  {
   "cell_type": "markdown",
   "metadata": {},
   "source": [
    "Adicionar Usuários"
   ]
  },
  {
   "cell_type": "code",
   "execution_count": 162,
   "metadata": {},
   "outputs": [],
   "source": [
    "def addUser(name, phone=\"Não Informado\", address=\"Não Informado\"):\n",
    "    global users\n",
    "    for user in users:\n",
    "        if user['nome'] == name and user['telefone'] == phone and user['endereco'] == address:\n",
    "            if user['status'] == False:\n",
    "                user['status'] = True\n",
    "            else:\n",
    "                print(f\"Usuário já cadastrado com ID {id_} !\")\n",
    "                return\n",
    "        else: \n",
    "            id_ = setID()\n",
    "            newUser = {\n",
    "                'id': id_,\n",
    "                'nome': name,\n",
    "                'telefone': phone,\n",
    "                'endereco': address,\n",
    "                'status': True\n",
    "            }\n",
    "            users.append(newUser)\n",
    "    print(f\"Usuário com ID {id_} adicionado com sucesso!\")\n"
   ]
  },
  {
   "cell_type": "markdown",
   "metadata": {},
   "source": [
    "Teste de Usuario"
   ]
  },
  {
   "cell_type": "code",
   "execution_count": 163,
   "metadata": {},
   "outputs": [
    {
     "name": "stdout",
     "output_type": "stream",
     "text": [
      "Usuário já cadastrado!\n",
      "{'id': 1, 'nome': 'João da Silva', 'telefone': '2345678', 'endereco': 'Rua sete', 'status': True}\n",
      "{'id': 2, 'nome': 'Maria Aparecida', 'telefone': '2345678', 'endereco': 'Rua cinco', 'status': True}\n",
      "{'id': 3, 'nome': 'Alceu Maroto', 'telefone': '2345678', 'endereco': 'Avenida trinta e um', 'status': True}\n",
      "{'id': 4, 'nome': 'Rafaela Mendes', 'telefone': '8765432', 'endereco': 'Rua quinze', 'status': True}\n",
      "{'id': 5, 'nome': 'Carlos Ferreira', 'telefone': '7654321', 'endereco': 'Avenida vinte e dois', 'status': True}\n",
      "{'id': 90608, 'nome': 'Paulo', 'telefone': '21969115004', 'endereco': 'minha casa', 'status': True}\n",
      "{'id': 87039, 'nome': 'a', 'telefone': 'Não Informado', 'endereco': 'Não Informado', 'status': True}\n",
      "{'id': 47801, 'nome': 'a', 'telefone': 'Não Informado', 'endereco': 'Não Informado', 'status': True}\n",
      "{'id': 93950, 'nome': 'a', 'telefone': 'Não Informado', 'endereco': 'Não Informado', 'status': True}\n",
      "{'id': 61481, 'nome': 'a', 'telefone': 'Não Informado', 'endereco': 'Não Informado', 'status': True}\n",
      "{'id': 93902, 'nome': 'a', 'telefone': 'Não Informado', 'endereco': 'Não Informado', 'status': True}\n",
      "{'id': 85190, 'nome': 'a', 'telefone': 'Não Informado', 'endereco': 'Não Informado', 'status': True}\n"
     ]
    }
   ],
   "source": [
    "readSaveFile()\n",
    "addUser('a')\n",
    "\n",
    "for user in users:\n",
    "    print(user)"
   ]
  },
  {
   "cell_type": "markdown",
   "metadata": {},
   "source": [
    "Edição de Usuário"
   ]
  },
  {
   "cell_type": "code",
   "execution_count": 164,
   "metadata": {},
   "outputs": [],
   "source": [
    "def editUser(id_):\n",
    "    global users\n",
    "    foundUser = False\n",
    "    for user in users:\n",
    "        if user['id'] == id_:\n",
    "            foundUser = True\n",
    "            showSubMenu()\n",
    "            option = int(input())\n",
    "            if option == 1:\n",
    "                newName = input(\"Insira o nome: \")\n",
    "                user['nome'] = newName\n",
    "            elif option == 2:\n",
    "                newPhone = input(\"Insira o telefone: \")\n",
    "                user['telefone'] = newPhone\n",
    "            elif option == 3:\n",
    "                newAdress = input(\"Insira o endereço: \")\n",
    "                user['endereco'] = newAdress\n",
    "            else:\n",
    "                print(\"Opção inválida!\")\n",
    "\n",
    "    if not foundUser:\n",
    "        print(f\"Usuário com ID {id_} não encontrado!\")\n"
   ]
  },
  {
   "cell_type": "markdown",
   "metadata": {},
   "source": [
    "Exibição de Usuário"
   ]
  },
  {
   "cell_type": "code",
   "execution_count": 165,
   "metadata": {},
   "outputs": [],
   "source": [
    "def showUsers(id_):\n",
    "    global users\n",
    "    foundUser = False\n",
    "    for user in users:\n",
    "        if user['id'] == id_ and user['status']:\n",
    "            foundUser = True\n",
    "            print(f\"Nome: {user['nome']}\")\n",
    "            print(f\"Telefone: {user['telefone']}\")\n",
    "            print(f\"Endereço: {user['endereco']}\")\n",
    "            break\n",
    "\n",
    "    if not foundUser:\n",
    "        print(f\"Usuário com ID {id_} não encontrado!\")\n"
   ]
  },
  {
   "cell_type": "markdown",
   "metadata": {},
   "source": [
    "Exibição de todos os Usuários"
   ]
  },
  {
   "cell_type": "code",
   "execution_count": 166,
   "metadata": {},
   "outputs": [],
   "source": [
    "def showAllUsers():\n",
    "    global users\n",
    "    for user in users:\n",
    "        if user['status']:\n",
    "            print(f\"ID: {user['id']}\")\n",
    "            print(f\"Nome: {user['nome']}\")\n",
    "            print(f\"Telefone: {user['telefone']}\")\n",
    "            print(f\"Endereço: {user['endereco']}\")\n",
    "            print()\n"
   ]
  },
  {
   "cell_type": "markdown",
   "metadata": {},
   "source": [
    "Teste de Exibição"
   ]
  },
  {
   "cell_type": "code",
   "execution_count": 167,
   "metadata": {},
   "outputs": [
    {
     "name": "stdout",
     "output_type": "stream",
     "text": [
      "Nome: João da Silva\n",
      "Telefone: 2345678\n",
      "Endereço: Rua sete\n",
      "ID: 1\n",
      "Nome: João da Silva\n",
      "Telefone: 2345678\n",
      "Endereço: Rua sete\n",
      "\n",
      "ID: 2\n",
      "Nome: Maria Aparecida\n",
      "Telefone: 2345678\n",
      "Endereço: Rua cinco\n",
      "\n",
      "ID: 3\n",
      "Nome: Alceu Maroto\n",
      "Telefone: 2345678\n",
      "Endereço: Avenida trinta e um\n",
      "\n",
      "ID: 4\n",
      "Nome: Rafaela Mendes\n",
      "Telefone: 8765432\n",
      "Endereço: Rua quinze\n",
      "\n",
      "ID: 5\n",
      "Nome: Carlos Ferreira\n",
      "Telefone: 7654321\n",
      "Endereço: Avenida vinte e dois\n",
      "\n",
      "ID: 90608\n",
      "Nome: Paulo\n",
      "Telefone: 21969115004\n",
      "Endereço: minha casa\n",
      "\n",
      "ID: 87039\n",
      "Nome: a\n",
      "Telefone: Não Informado\n",
      "Endereço: Não Informado\n",
      "\n",
      "ID: 47801\n",
      "Nome: a\n",
      "Telefone: Não Informado\n",
      "Endereço: Não Informado\n",
      "\n",
      "ID: 93950\n",
      "Nome: a\n",
      "Telefone: Não Informado\n",
      "Endereço: Não Informado\n",
      "\n",
      "ID: 61481\n",
      "Nome: a\n",
      "Telefone: Não Informado\n",
      "Endereço: Não Informado\n",
      "\n",
      "ID: 93902\n",
      "Nome: a\n",
      "Telefone: Não Informado\n",
      "Endereço: Não Informado\n",
      "\n",
      "ID: 85190\n",
      "Nome: a\n",
      "Telefone: Não Informado\n",
      "Endereço: Não Informado\n",
      "\n"
     ]
    }
   ],
   "source": [
    "showUsers(1)\n",
    "showAllUsers()"
   ]
  },
  {
   "cell_type": "markdown",
   "metadata": {},
   "source": [
    "Apagar Usuário"
   ]
  },
  {
   "cell_type": "code",
   "execution_count": 168,
   "metadata": {},
   "outputs": [],
   "source": [
    "def deleteUser(*ids):\n",
    "    global users\n",
    "    for id_ in ids:\n",
    "        userFound = False\n",
    "        for user in users:\n",
    "            if user['id'] == id_:\n",
    "                user['status'] = False\n",
    "                userFound = True\n",
    "                break\n",
    "        if not userFound:\n",
    "            print(f\"Usuário com ID {id_} não encontrado!\")\n",
    "\n",
    "    print(\"Exclusão concluída!\")\n"
   ]
  },
  {
   "cell_type": "markdown",
   "metadata": {},
   "source": [
    "Encerrar Programa"
   ]
  },
  {
   "cell_type": "code",
   "execution_count": 169,
   "metadata": {},
   "outputs": [],
   "source": [
    "def quitCode(fileName='usersBase.json'):\n",
    "    readSaveFile(read=False, fileName=fileName)\n",
    "    print(\"Programa encerrado. Arquivo salvo com sucesso!\")\n"
   ]
  },
  {
   "cell_type": "markdown",
   "metadata": {},
   "source": [
    "Esqueleto do Programa"
   ]
  },
  {
   "cell_type": "code",
   "execution_count": 170,
   "metadata": {},
   "outputs": [
    {
     "name": "stdout",
     "output_type": "stream",
     "text": [
      "\n",
      "    \n",
      "Boas vindas ao nosso sistema:\n",
      "\n",
      "    1 - Inserir usuário\n",
      "    2 - Excluir usuário\n",
      "    3 - Atualizar usuário\n",
      "    4 - Informações de um usuário\n",
      "    5 - Informações de todos os usuários\n",
      "    6 - Sair\n",
      "\n",
      "    \n",
      "Usuário já cadastrado!\n",
      "\n",
      "    \n",
      "Boas vindas ao nosso sistema:\n",
      "\n",
      "    1 - Inserir usuário\n",
      "    2 - Excluir usuário\n",
      "    3 - Atualizar usuário\n",
      "    4 - Informações de um usuário\n",
      "    5 - Informações de todos os usuários\n",
      "    6 - Sair\n",
      "\n",
      "    \n"
     ]
    },
    {
     "ename": "ValueError",
     "evalue": "invalid literal for int() with base 10: ''",
     "output_type": "error",
     "traceback": [
      "\u001b[1;31m---------------------------------------------------------------------------\u001b[0m",
      "\u001b[1;31mValueError\u001b[0m                                Traceback (most recent call last)",
      "Cell \u001b[1;32mIn[170], line 8\u001b[0m\n\u001b[0;32m      5\u001b[0m \u001b[39mwhile\u001b[39;00m continueCode:\n\u001b[0;32m      6\u001b[0m     showMenu()\n\u001b[1;32m----> 8\u001b[0m     option \u001b[39m=\u001b[39m \u001b[39mint\u001b[39;49m(\u001b[39minput\u001b[39;49m(\u001b[39m\"\u001b[39;49m\u001b[39mDigite a opção desejada: \u001b[39;49m\u001b[39m\"\u001b[39;49m))\n\u001b[0;32m     10\u001b[0m     \u001b[39mif\u001b[39;00m option \u001b[39m==\u001b[39m \u001b[39m1\u001b[39m:\n\u001b[0;32m     11\u001b[0m         amount \u001b[39m=\u001b[39m \u001b[39mint\u001b[39m(\u001b[39minput\u001b[39m(\u001b[39m\"\u001b[39m\u001b[39mDigite o número de cadastros que deseja inserir: \u001b[39m\u001b[39m\"\u001b[39m))\n",
      "\u001b[1;31mValueError\u001b[0m: invalid literal for int() with base 10: ''"
     ]
    }
   ],
   "source": [
    "readSaveFile()\n",
    "\n",
    "continueCode = True\n",
    "\n",
    "while continueCode:\n",
    "    showMenu()\n",
    "\n",
    "    option = int(input(\"Digite a opção desejada: \"))\n",
    "\n",
    "    if option == 1:\n",
    "        amount = int(input(\"Digite o número de cadastros que deseja inserir: \"))\n",
    "        for _ in range(amount):\n",
    "            name = input(\"Insira o nome: \")\n",
    "            phone = input(\"Insira o telefone: \")\n",
    "            address = input(\"Insira o endereço: \")\n",
    "            addUser(name, phone, address)\n",
    "    elif option == 2:\n",
    "        ids = input(\"Insira o(s) ID(s) do(s) usuário(s) que deseja excluir (separados por vírgula): \").split(',')\n",
    "        ids = [int(id_) for id_ in ids]\n",
    "        deleteUser(*ids)\n",
    "    elif option == 3:\n",
    "        id_ = int(input(\"Insira o ID do usuário que deseja atualizar: \"))\n",
    "        editUser(id_)\n",
    "    elif option == 4:\n",
    "        id_ = int(input(\"Insira o ID do usuário que deseja visualizar: \"))\n",
    "        showUsers(id_)\n",
    "    elif option == 5:\n",
    "        showAllUsers()\n",
    "    elif option == 6:\n",
    "        quitCode()\n",
    "        continueCode = False\n",
    "    else:\n",
    "        print(\"Opção inválida!\")\n"
   ]
  }
 ],
 "metadata": {
  "kernelspec": {
   "display_name": "Python 3",
   "language": "python",
   "name": "python3"
  },
  "language_info": {
   "codemirror_mode": {
    "name": "ipython",
    "version": 3
   },
   "file_extension": ".py",
   "mimetype": "text/x-python",
   "name": "python",
   "nbconvert_exporter": "python",
   "pygments_lexer": "ipython3",
   "version": "3.11.3"
  },
  "orig_nbformat": 4
 },
 "nbformat": 4,
 "nbformat_minor": 2
}
