{
 "cells": [
  {
   "cell_type": "markdown",
   "metadata": {},
   "source": [
    "Identificação:"
   ]
  },
  {
   "cell_type": "markdown",
   "metadata": {},
   "source": [
    "Nome: Paulo Henrique dos Santos Almeida\n",
    "E-mail: palmeida.dev@gmail.com\n",
    "Turma: 1009 (Engenharia de Dados)"
   ]
  },
  {
   "cell_type": "markdown",
   "metadata": {},
   "source": [
    "Imports"
   ]
  },
  {
   "cell_type": "code",
   "execution_count": null,
   "metadata": {},
   "outputs": [],
   "source": [
    "import json\n",
    "import random"
   ]
  },
  {
   "cell_type": "markdown",
   "metadata": {},
   "source": [
    "Leitura do Arquivo\n"
   ]
  },
  {
   "cell_type": "code",
   "execution_count": null,
   "metadata": {},
   "outputs": [],
   "source": [
    "users = []\n",
    "\n",
    "def readSaveFile(read=True, fileName='usersBase.json'):\n",
    "    global users\n",
    "    try:\n",
    "        with open(fileName, 'r', encoding=\"utf8\") as file:\n",
    "            users = json.load(file)\n",
    "    except FileNotFoundError:\n",
    "        print(\"Arquivo não encontrado. Iniciando o sistema com uma lista vazia.\")\n",
    "        users = []"
   ]
  },
  {
   "cell_type": "markdown",
   "metadata": {},
   "source": [
    "Geração de Ids aleatórios e Únicos"
   ]
  },
  {
   "cell_type": "code",
   "execution_count": null,
   "metadata": {},
   "outputs": [],
   "source": [
    "def generateID():\n",
    "    existing_ids = [user['id'] for user in users]\n",
    "    generatedID = random.randint(1, 100000)\n",
    "    while generatedID in existing_ids:\n",
    "        generatedID = random.randint(1, 100000)\n",
    "    return generatedID"
   ]
  },
  {
   "cell_type": "markdown",
   "metadata": {},
   "source": [
    "Menu"
   ]
  },
  {
   "cell_type": "code",
   "execution_count": null,
   "metadata": {},
   "outputs": [],
   "source": [
    "def showMenu():\n",
    "    menuStr = \"\"\"\n",
    "    \\nBoas vindas ao nosso sistema:\n",
    "\n",
    "    1 - Inserir usuário\n",
    "    2 - Excluir usuário\n",
    "    3 - Atualizar usuário\n",
    "    4 - Informações de um usuário\n",
    "    5 - Informações de todos os usuários\n",
    "    6 - Sair\\n\n",
    "    \"\"\"\n",
    "    print(menuStr)\n"
   ]
  },
  {
   "cell_type": "markdown",
   "metadata": {},
   "source": [
    "Sub-Menu"
   ]
  },
  {
   "cell_type": "code",
   "execution_count": null,
   "metadata": {},
   "outputs": [],
   "source": [
    "def showSubMenu():\n",
    "    subMenuStr = \"\"\"\n",
    "    \\nQual informação deseja alterar?\n",
    "    1 - Nome\n",
    "    2 - Telefone\n",
    "    3 - Endereço\n",
    "    \\n\n",
    "    \"\"\"\n",
    "    print(subMenuStr)"
   ]
  },
  {
   "cell_type": "markdown",
   "metadata": {},
   "source": [
    "Adicionar Usuários"
   ]
  },
  {
   "cell_type": "code",
   "execution_count": null,
   "metadata": {},
   "outputs": [],
   "source": [
    "def addUser(name, phone=\"Não Informado\", address=\"Não Informado\"):\n",
    "    global users\n",
    "    if any(user['nome'] == name and user['telefone'] == phone and user['endereco'] == address for user in users):\n",
    "        existing_user = next((user for user in users if user['nome'] == name and user['telefone'] == phone and user['endereco'] == address), None)\n",
    "        if existing_user['status']:\n",
    "            print(f\"Usuário já cadastrado com ID {existing_user['id']}!\")\n",
    "        else:\n",
    "            existing_user['status'] = True\n",
    "            print(f\"Usuário com ID {existing_user['id']} adicionado com sucesso!\")\n",
    "    else:\n",
    "        id_ = generateID()\n",
    "        new_user = {\n",
    "            'id': id_,\n",
    "            'nome': name,\n",
    "            'telefone': phone,\n",
    "            'endereco': address,\n",
    "            'status': True\n",
    "        }\n",
    "        users.append(new_user)\n",
    "        print(f\"Usuário com ID {id_} adicionado com sucesso!\")\n"
   ]
  },
  {
   "cell_type": "markdown",
   "metadata": {},
   "source": [
    "Teste de Usuario"
   ]
  },
  {
   "cell_type": "code",
   "execution_count": null,
   "metadata": {},
   "outputs": [],
   "source": [
    "readSaveFile()\n",
    "addUser('a')\n",
    "\n",
    "for user in users:\n",
    "    print(user)"
   ]
  },
  {
   "cell_type": "markdown",
   "metadata": {},
   "source": [
    "Edição de Usuário"
   ]
  },
  {
   "cell_type": "code",
   "execution_count": null,
   "metadata": {},
   "outputs": [],
   "source": [
    "def editUser(id_):\n",
    "    global users\n",
    "    found_user = next((user for user in users if user['id'] == id_), None)\n",
    "    if found_user:\n",
    "        showSubMenu()\n",
    "        option = int(input(\"Digite a opção desejada: \"))\n",
    "        if option == 1:\n",
    "            new_name = input(\"Insira o novo nome: \")\n",
    "            found_user['nome'] = new_name\n",
    "        elif option == 2:\n",
    "            new_phone = input(\"Insira o novo telefone: \")\n",
    "            found_user['telefone'] = new_phone\n",
    "        elif option == 3:\n",
    "            new_address = input(\"Insira o novo endereço: \")\n",
    "            found_user['endereco'] = new_address\n",
    "        else:\n",
    "            print(\"Opção inválida!\")\n",
    "    else:\n",
    "        print(f\"Usuário com ID {id_} não encontrado!\")\n"
   ]
  },
  {
   "cell_type": "markdown",
   "metadata": {},
   "source": [
    "Exibição de Usuário"
   ]
  },
  {
   "cell_type": "code",
   "execution_count": null,
   "metadata": {},
   "outputs": [],
   "source": [
    "def showUser(id_):\n",
    "    global users\n",
    "    found_user = next((user for user in users if user['id'] == id_ and user['status']), None)\n",
    "    if found_user:\n",
    "        print(f\"Nome: {found_user['nome']}\")\n",
    "        print(f\"Telefone: {found_user['telefone']}\")\n",
    "        print(f\"Endereço: {found_user['endereco']}\")\n",
    "    else:\n",
    "        print(f\"Usuário com ID {id_} não encontrado!\")\n"
   ]
  },
  {
   "cell_type": "markdown",
   "metadata": {},
   "source": [
    "Exibição de todos os Usuários"
   ]
  },
  {
   "cell_type": "code",
   "execution_count": null,
   "metadata": {},
   "outputs": [],
   "source": [
    "def showAllUsers():\n",
    "    global users\n",
    "    for user in users:\n",
    "        if user['status']:\n",
    "            print(f\"ID: {user['id']}\")\n",
    "            print(f\"Nome: {user['nome']}\")\n",
    "            print(f\"Telefone: {user['telefone']}\")\n",
    "            print(f\"Endereço: {user['endereco']}\")\n",
    "            print()\n"
   ]
  },
  {
   "cell_type": "markdown",
   "metadata": {},
   "source": [
    "Teste de Exibição"
   ]
  },
  {
   "cell_type": "code",
   "execution_count": null,
   "metadata": {},
   "outputs": [],
   "source": [
    "showUser(1)\n",
    "showAllUsers()"
   ]
  },
  {
   "cell_type": "markdown",
   "metadata": {},
   "source": [
    "Apagar Usuário"
   ]
  },
  {
   "cell_type": "code",
   "execution_count": null,
   "metadata": {},
   "outputs": [],
   "source": [
    "def deleteUser(*ids):\n",
    "    global users\n",
    "    for id_ in ids:\n",
    "        userFound = False\n",
    "        for user in users:\n",
    "            if user['id'] == id_:\n",
    "                user['status'] = False\n",
    "                userFound = True\n",
    "                print(\"Exclusão concluída!\")\n",
    "                break\n",
    "        if not userFound:\n",
    "            print(f\"Usuário com ID {id_} não encontrado!\")\n",
    "\n",
    "    \n"
   ]
  },
  {
   "cell_type": "markdown",
   "metadata": {},
   "source": [
    "Encerrar Programa"
   ]
  },
  {
   "cell_type": "code",
   "execution_count": null,
   "metadata": {},
   "outputs": [],
   "source": [
    "def quitCode(fileName='usersBase.json'):\n",
    "    readSaveFile(read=False, fileName=fileName)\n",
    "    print(\"Programa encerrado. Arquivo salvo com sucesso!\")\n"
   ]
  },
  {
   "cell_type": "markdown",
   "metadata": {},
   "source": [
    "Verificação de Números Inteiros"
   ]
  },
  {
   "cell_type": "code",
   "execution_count": null,
   "metadata": {},
   "outputs": [],
   "source": [
    "def getIntInput(prompt, min_value=1, max_value=None):\n",
    "    while True:\n",
    "        try:\n",
    "            value = int(input(prompt))\n",
    "            if max_value is not None and value not in range(min_value, max_value + 1):\n",
    "                raise ValueError(f\"Erro: Insira um valor entre {min_value} e {max_value}!\")\n",
    "            else:\n",
    "                return value\n",
    "        except ValueError as e:\n",
    "            print(\"Erro: Insira um valor inteiro válido!\")"
   ]
  },
  {
   "cell_type": "markdown",
   "metadata": {},
   "source": [
    "Opções do Programa"
   ]
  },
  {
   "cell_type": "code",
   "execution_count": null,
   "metadata": {},
   "outputs": [],
   "source": [
    "def addUsersOption():\n",
    "    amount = getIntInput(\"Digite o número de cadastros que deseja inserir: \")\n",
    "    for _ in range(amount):\n",
    "        name = input(\"Insira o nome: \")\n",
    "        phone = input(\"Insira o telefone: \")\n",
    "        address = input(\"Insira o endereço: \")\n",
    "        addUser(name, phone, address)\n",
    "\n",
    "def deleteUserOption():\n",
    "    ids = input(\"Insira o(s) ID(s) do(s) usuário(s) que deseja excluir (separados por vírgula): \").split(',')\n",
    "    valid_ids = []\n",
    "    for id_ in ids:\n",
    "        try:\n",
    "            valid_id = int(id_)\n",
    "            valid_ids.append(valid_id)\n",
    "        except ValueError:\n",
    "            pass\n",
    "\n",
    "    if valid_ids:\n",
    "        deleteUser(*valid_ids)\n",
    "    else:\n",
    "        print(\"Nenhum ID válido inserido. Nenhum usuário foi excluído.\")\n",
    "\n",
    "def editUserOption():\n",
    "    id_ = getIntInput(\"Insira o ID do usuário que deseja atualizar: \")\n",
    "    editUser(id_)\n",
    "\n",
    "def showUserOption():\n",
    "    id_ = getIntInput(\"Insira o ID do usuário que deseja visualizar: \")\n",
    "    showUser(id_)"
   ]
  },
  {
   "cell_type": "markdown",
   "metadata": {},
   "source": [
    "Função Principal do Programa"
   ]
  },
  {
   "cell_type": "code",
   "execution_count": null,
   "metadata": {},
   "outputs": [],
   "source": [
    "def initialize():\n",
    "    readSaveFile()\n",
    "    option = 1\n",
    "    menu_options = {\n",
    "        1: lambda: addUsersOption(),\n",
    "        2: lambda: deleteUserOption(),\n",
    "        3: lambda: editUserOption(),\n",
    "        4: lambda: showUserOption(),\n",
    "        5: lambda: showAllUsers(),\n",
    "        6: lambda: quitCode(),\n",
    "    }\n",
    "    while option != 6:\n",
    "        showMenu()\n",
    "        option = getIntInput(\"Digite a opção desejada: \", min_value=1, max_value=6)\n",
    "        menu_options.get(option, lambda: print(\"Opção inválida!\"))()\n"
   ]
  },
  {
   "cell_type": "markdown",
   "metadata": {},
   "source": [
    "Inicializar o Programa"
   ]
  },
  {
   "cell_type": "code",
   "execution_count": null,
   "metadata": {},
   "outputs": [],
   "source": [
    "initialize()"
   ]
  }
 ],
 "metadata": {
  "kernelspec": {
   "display_name": "Python 3",
   "language": "python",
   "name": "python3"
  },
  "language_info": {
   "codemirror_mode": {
    "name": "ipython",
    "version": 3
   },
   "file_extension": ".py",
   "mimetype": "text/x-python",
   "name": "python",
   "nbconvert_exporter": "python",
   "pygments_lexer": "ipython3",
   "version": "3.11.3"
  },
  "orig_nbformat": 4
 },
 "nbformat": 4,
 "nbformat_minor": 2
}
